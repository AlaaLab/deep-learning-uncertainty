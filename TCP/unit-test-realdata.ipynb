{
 "cells": [
  {
   "cell_type": "code",
   "execution_count": 1,
   "metadata": {},
   "outputs": [],
   "source": [
    "# Copyright (c) 2022, Clinical ML lab\n",
    "# Licensed under the BSD 3-clause license (see LICENSE.txt)\n",
    "\n",
    "# ---------------------------------------------------------\n",
    "# Unit test for real world data baselines\n",
    "# ---------------------------------------------------------\n",
    "\n",
    "from __future__ import absolute_import, division, print_function\n",
    "from matplotlib import pyplot as plt\n",
    "import numpy as np\n",
    "import sys\n",
    "\n",
    "if not sys.warnoptions:\n",
    "    import warnings\n",
    "    warnings.simplefilter(\"ignore\")"
   ]
  },
  {
   "cell_type": "code",
   "execution_count": 2,
   "metadata": {},
   "outputs": [],
   "source": [
    "from data.synthetic import *\n",
    "from data.real_data import *\n",
    "from conformal.quantiles import *\n",
    "from conformal.TCP import *\n",
    "from utils.visualize import *\n",
    "from utils.metrics import *\n",
    "import sys \n",
    "import six\n",
    "sys.path.append('./conformal/cqr/')\n",
    "sys.path.append('./conformal/chr/')\n",
    "sys.modules['sklearn.externals.six'] = six\n",
    "from conformal.baselines import *"
   ]
  },
  {
   "cell_type": "code",
   "execution_count": null,
   "metadata": {},
   "outputs": [],
   "source": []
  },
  {
   "cell_type": "markdown",
   "metadata": {},
   "source": [
    "## Get real-world dataset\n",
    "\n",
    "Options for real-world data: meps_19, meps_20, meps_21, facebook_1, facebook_2, bio, blog_data, kin8nm, naval "
   ]
  },
  {
   "cell_type": "code",
   "execution_count": 3,
   "metadata": {},
   "outputs": [],
   "source": [
    "params = {'seed': 42, 'test_size': 0.15}\n",
    "dataset_name   = 'meps_19'\n",
    "dataset_base_path = './data/real_data/'\n",
    "data_out = get_scaled_dataset(dataset_name, dataset_base_path, params=params)\n",
    "X_calib, y_calib = data_out.X_train, data_out.y_train    \n",
    "X_test, y_test   = data_out.X_te, data_out.y_te"
   ]
  },
  {
   "cell_type": "code",
   "execution_count": 4,
   "metadata": {},
   "outputs": [
    {
     "name": "stdout",
     "output_type": "stream",
     "text": [
      "torch.Size([13417, 139])\n",
      "torch.Size([2368, 139])\n"
     ]
    }
   ],
   "source": [
    "print(X_calib.shape)\n",
    "print(X_test.shape)"
   ]
  },
  {
   "cell_type": "code",
   "execution_count": null,
   "metadata": {},
   "outputs": [],
   "source": []
  },
  {
   "cell_type": "markdown",
   "metadata": {},
   "source": [
    "## TCP test"
   ]
  },
  {
   "cell_type": "code",
   "execution_count": 5,
   "metadata": {},
   "outputs": [
    {
     "name": "stdout",
     "output_type": "stream",
     "text": [
      "fitting UQR number 0\n",
      "fitting UQR number 10\n",
      "fitting UQR number 20\n",
      "fitting UQR number 30\n",
      "fitting UQR number 40\n",
      "fitting UQR number 50\n",
      "fitting UQR number 60\n",
      "fitting UQR number 70\n",
      "fitting UQR number 80\n",
      "fitting UQR number 90\n",
      "predicting with UQR number 0\n",
      "predicting with UQR number 10\n",
      "predicting with UQR number 20\n",
      "predicting with UQR number 30\n",
      "predicting with UQR number 40\n",
      "predicting with UQR number 50\n",
      "predicting with UQR number 60\n",
      "predicting with UQR number 70\n",
      "predicting with UQR number 80\n",
      "predicting with UQR number 90\n"
     ]
    }
   ],
   "source": [
    "TCP_model = TCP_RIF(delta=0.05)\n",
    "TCP_model.fit(X_calib[:1000], y_calib[:1000])\n",
    "q_TCP_RIF, r_TCP_RIF  = TCP_model.predict(X_test[:1000])"
   ]
  },
  {
   "cell_type": "code",
   "execution_count": 7,
   "metadata": {},
   "outputs": [
    {
     "data": {
      "text/plain": [
       "1000"
      ]
     },
     "execution_count": 7,
     "metadata": {},
     "output_type": "execute_result"
    }
   ],
   "source": []
  },
  {
   "cell_type": "code",
   "execution_count": null,
   "metadata": {},
   "outputs": [],
   "source": []
  }
 ],
 "metadata": {
  "interpreter": {
   "hash": "16e506d3fa8f6f63ed231ff8a9b4bc80511337aff221c867662ebd474056765a"
  },
  "kernelspec": {
   "display_name": "Python 3.8.5 ('cancer_prog')",
   "language": "python",
   "name": "python3"
  },
  "language_info": {
   "codemirror_mode": {
    "name": "ipython",
    "version": 3
   },
   "file_extension": ".py",
   "mimetype": "text/x-python",
   "name": "python",
   "nbconvert_exporter": "python",
   "pygments_lexer": "ipython3",
   "version": "3.8.5"
  },
  "orig_nbformat": 4
 },
 "nbformat": 4,
 "nbformat_minor": 2
}
